{
 "cells": [
  {
   "cell_type": "code",
   "execution_count": 1,
   "metadata": {},
   "outputs": [],
   "source": [
    "import numpy as np\n",
    "import pandas as pd\n",
    "import seaborn as sns\n",
    "import matplotlib.pyplot as plt\n",
    "from sklearn.preprocessing import LabelEncoder\n",
    "from sklearn.model_selection import train_test_split\n",
    "from sklearn.metrics import accuracy_score\n",
    "from numpy import random\n",
    "\n",
    "\n",
    "%matplotlib inline"
   ]
  },
  {
   "cell_type": "code",
   "execution_count": 30,
   "metadata": {},
   "outputs": [],
   "source": [
    "import logging\n",
    "import gensim\n",
    "import nltk\n",
    "from sklearn.feature_extraction.text import TfidfTransformer\n",
    "from sklearn.feature_extraction.text import CountVectorizer\n",
    "from sklearn.pipeline import Pipeline\n",
    "from sklearn.naive_bayes import MultinomialNB\n",
    "from sklearn.metrics import accuracy_score, confusion_matrix\n",
    "from nltk.corpus import stopwords\n",
    "import re\n",
    "from bs4 import BeautifulSoup"
   ]
  },
  {
   "cell_type": "code",
   "execution_count": 15,
   "metadata": {},
   "outputs": [
    {
     "name": "stderr",
     "output_type": "stream",
     "text": [
      "[nltk_data] Downloading package stopwords to\n",
      "[nltk_data]     C:\\Users\\suman\\AppData\\Roaming\\nltk_data...\n",
      "[nltk_data]   Unzipping corpora\\stopwords.zip.\n"
     ]
    },
    {
     "data": {
      "text/plain": [
       "True"
      ]
     },
     "execution_count": 15,
     "metadata": {},
     "output_type": "execute_result"
    }
   ],
   "source": [
    "nltk.download('stopwords')"
   ]
  },
  {
   "attachments": {},
   "cell_type": "markdown",
   "metadata": {},
   "source": [
    "This notebook is to present basic text classification and compare few classification models\n",
    "\n",
    "Data is stackoverflow.csv which is present in data folder in the project"
   ]
  },
  {
   "cell_type": "code",
   "execution_count": 3,
   "metadata": {},
   "outputs": [],
   "source": [
    "#Read stack overflow data into pandas dataframe\n",
    "df=pd.read_csv('data/stack-overflow-data.csv')\n"
   ]
  },
  {
   "cell_type": "code",
   "execution_count": 4,
   "metadata": {},
   "outputs": [
    {
     "data": {
      "text/html": [
       "<div>\n",
       "<style scoped>\n",
       "    .dataframe tbody tr th:only-of-type {\n",
       "        vertical-align: middle;\n",
       "    }\n",
       "\n",
       "    .dataframe tbody tr th {\n",
       "        vertical-align: top;\n",
       "    }\n",
       "\n",
       "    .dataframe thead th {\n",
       "        text-align: right;\n",
       "    }\n",
       "</style>\n",
       "<table border=\"1\" class=\"dataframe\">\n",
       "  <thead>\n",
       "    <tr style=\"text-align: right;\">\n",
       "      <th></th>\n",
       "      <th>post</th>\n",
       "      <th>tags</th>\n",
       "    </tr>\n",
       "  </thead>\n",
       "  <tbody>\n",
       "    <tr>\n",
       "      <th>0</th>\n",
       "      <td>what is causing this behavior  in our c# datet...</td>\n",
       "      <td>c#</td>\n",
       "    </tr>\n",
       "    <tr>\n",
       "      <th>1</th>\n",
       "      <td>have dynamic html load as if it was in an ifra...</td>\n",
       "      <td>asp.net</td>\n",
       "    </tr>\n",
       "    <tr>\n",
       "      <th>2</th>\n",
       "      <td>how to convert a float value in to min:sec  i ...</td>\n",
       "      <td>objective-c</td>\n",
       "    </tr>\n",
       "    <tr>\n",
       "      <th>3</th>\n",
       "      <td>.net framework 4 redistributable  just wonderi...</td>\n",
       "      <td>.net</td>\n",
       "    </tr>\n",
       "    <tr>\n",
       "      <th>4</th>\n",
       "      <td>trying to calculate and print the mean and its...</td>\n",
       "      <td>python</td>\n",
       "    </tr>\n",
       "  </tbody>\n",
       "</table>\n",
       "</div>"
      ],
      "text/plain": [
       "                                                post         tags\n",
       "0  what is causing this behavior  in our c# datet...           c#\n",
       "1  have dynamic html load as if it was in an ifra...      asp.net\n",
       "2  how to convert a float value in to min:sec  i ...  objective-c\n",
       "3  .net framework 4 redistributable  just wonderi...         .net\n",
       "4  trying to calculate and print the mean and its...       python"
      ]
     },
     "execution_count": 4,
     "metadata": {},
     "output_type": "execute_result"
    }
   ],
   "source": [
    "df.head()"
   ]
  },
  {
   "attachments": {},
   "cell_type": "markdown",
   "metadata": {},
   "source": [
    "**I. Data Insights and Data Clean-up**"
   ]
  },
  {
   "cell_type": "code",
   "execution_count": 7,
   "metadata": {},
   "outputs": [
    {
     "name": "stdout",
     "output_type": "stream",
     "text": [
      "Number of words in the dataset:  10286120\n"
     ]
    }
   ],
   "source": [
    "#Number of words in the dataset\n",
    "\n",
    "print(\"Number of words in the dataset: \", df['post'].apply(lambda x: len(x.split(' '))).sum())"
   ]
  },
  {
   "cell_type": "code",
   "execution_count": 8,
   "metadata": {},
   "outputs": [
    {
     "data": {
      "image/png": "[encoded data removed]",
      "text/plain": [
       "<Figure size 720x288 with 1 Axes>"
      ]
     },
     "metadata": {
      "needs_background": "light"
     },
     "output_type": "display_data"
    }
   ],
   "source": [
    "#Finding out what tags are available and tags can be considered as classes \n",
    "\n",
    "plt.figure(figsize=(10,4))\n",
    "df.tags.value_counts().plot(kind='bar');"
   ]
  },
  {
   "attachments": {},
   "cell_type": "markdown",
   "metadata": {},
   "source": [
    "From above the classes are balanced and does not need any methods to balance.\n",
    "\n",
    "Let's check how the data is for each tag"
   ]
  },
  {
   "cell_type": "code",
   "execution_count": 9,
   "metadata": {},
   "outputs": [],
   "source": [
    "def print_example(index):\n",
    "    exampleContent = df[df.index == index][['post', 'tags']].values[0]\n",
    "    if len(exampleContent) > 0:\n",
    "        print(exampleContent[0])\n",
    "        print('Tag:', exampleContent[1])"
   ]
  },
  {
   "cell_type": "code",
   "execution_count": 10,
   "metadata": {},
   "outputs": [
    {
     "name": "stdout",
     "output_type": "stream",
     "text": [
      "java - hackerrank.com 30 days of code  day 6  hello stackoverflow peeps!    working to learn/improve my coding skills with hackerrank.com s 30 days of code. i m on day 6 and having some issues figuring out why i m getting this error message:     ~ no response on stdout ~     i ve done some searching on google and within stackoverflow and found others with the same error but it was because they weren t using standard i/o. i feel like i am  what am i missing     here s my code:   <pre><code>import java.io.*; import java.util.*; import java.text.*; import java.math.*; import java.util.regex.*;  public class solution {  public static void main(string[] args) { /* enter your code here. read input from stdin. print output to stdout. your class should be named solution. */      scanner sc = new scanner(system.in);     int cases = sc.nextint();      while(cases &gt; 0){         getword();         cases--;     }   }  public static void getword(){     //save input to string     scanner sc = new scanner(system.in);     string userinput = sc.nextline();      //convert string to character array     char[] inputchararray = userinput.tochararray();      //setup output strings     string evenoutputstring =   ;     string oddoutputstring =   ;      //iterate through array     for (int i = 0; i &lt;= userinput.length(); i++) {         //check if index is even         if (i % 2 == 0) {             //add to even output string             evenoutputstring = evenoutputstring + inputchararray[i];         } else {             //add to odd output string             oddoutputstring = oddoutputstring + inputchararray[i];         }     }      //output final output in one line  seperated by a single space     system.out.println(evenoutputstring +     + oddoutputstring);      }  } </code></pre>   the challenge can be found here: <a href= https://www.hackerrank.com/challenges/30-review-loop/problem  rel= nofollow noreferrer >https://www.hackerrank.com/challenges/30-review-loop/problem</a>    the first input is a number that determines how many test cases will occur  the following inputs are single words that i m supposed to put into an array and then sort out the even and odd index slots and print them on one line  separated by a space.    example input:   <pre><code>2 hacker rank </code></pre>   example output:   <pre><code>hce akr rn ak </code></pre>   i ve tried moving the while(cases > 0) code block to it s own method just in case the args from the main method was part of the problem  and got the same results. i ve also tried the .tostring on the inputchararray[i] for the output string concatenation. i m also trying to stay away from stringbuilder so that i can stay within the intended scope of the challenge.\n",
      "Tag: java\n",
      "None\n"
     ]
    }
   ],
   "source": [
    "print(print_example(20))"
   ]
  },
  {
   "cell_type": "code",
   "execution_count": 11,
   "metadata": {},
   "outputs": [
    {
     "name": "stdout",
     "output_type": "stream",
     "text": [
      "custom ios ui control  sendactions with data  i m trying to build a custom control that you initialize with an array of strings  and then it creates labels one above the other for them that you can click.  i ve got it visually working  but the part about sending actions i m confused about.     <pre><code>internal func sharedinit() {     translatesautoresizingmaskintoconstraints = false      var labels = [uilabel]()     var tagindex = 0     for name in menunames {         let label = uilabel()         label.translatesautoresizingmaskintoconstraints = false         label.text = name         label.textcolor = tintcolor         label.isuserinteractionenabled = true         label.tag = tagindex         addtapgesturerecognizer(label: label)          labels.append(label)         addsubview(label)          tagindex += 1     }     menulabels = labels  internal func addtapgesturerecognizer(label: uilabel) {     let tapgesturerecognizer = uitapgesturerecognizer(target: self  action: #selector(submenuview.handletap(_:)))     label.addgesturerecognizer(tapgesturerecognizer) }  func handletap(_ sender: uitapgesturerecognizer) {     print(sender.view .tag)     sendactions(for: .touchupinside) } </code></pre>   i want the control to be able to have a different action for each of the different labels they pass in when touched.  but i wasn t sure if target-action can do this   when i add an action to the actual control  i have no idea which label is selected right   i think it would work if when i print the tag  i broadcast a notification so the view controller can figure out which label was pressed and then which action to do.  but i wasn t sure if there was a better way to do this with target-action since that s what i see most of the tutorials using for custom controls.  thanks in advance.\n",
      "Tag: ios\n",
      "None\n"
     ]
    }
   ],
   "source": [
    "print(print_example(40))"
   ]
  },
  {
   "attachments": {},
   "cell_type": "markdown",
   "metadata": {},
   "source": [
    "The content above shows for both tags java and ios. There are various tags as depicted in the above plot. Also, the text needs a lot of cleanup as it contains stopwords, symbols html codes etc."
   ]
  },
  {
   "cell_type": "code",
   "execution_count": 16,
   "metadata": {},
   "outputs": [],
   "source": [
    "REPLACE_BY_SPACE_RE = re.compile('[/(){}\\[\\]\\|@,;]')\n",
    "BAD_SYMBOLS_RE = re.compile('[^0-9a-z #+_]')\n",
    "STOPWORDS = set(stopwords.words('english'))\n",
    "\n",
    "def clean_text(text):\n",
    "    \"\"\"\n",
    "        text: a string\n",
    "        \n",
    "        return: modified initial string\n",
    "    \"\"\"\n",
    "    text = BeautifulSoup(text, \"lxml\").text # HTML decoding\n",
    "    text = text.lower() # lowercase text\n",
    "    text = REPLACE_BY_SPACE_RE.sub(' ', text) # replace REPLACE_BY_SPACE_RE symbols by space in text\n",
    "    text = BAD_SYMBOLS_RE.sub('', text) # delete symbols which are in BAD_SYMBOLS_RE from text\n",
    "    text = ' '.join(word for word in text.split() if word not in STOPWORDS) # delete stopwors from text\n",
    "    return text"
   ]
  },
  {
   "cell_type": "code",
   "execution_count": 17,
   "metadata": {},
   "outputs": [
    {
     "name": "stderr",
     "output_type": "stream",
     "text": [
      "c:\\Users\\suman\\anaconda3\\lib\\site-packages\\bs4\\__init__.py:435: MarkupResemblesLocatorWarning: The input looks more like a filename than markup. You may want to open this file and pass the filehandle into Beautiful Soup.\n",
      "  warnings.warn(\n"
     ]
    }
   ],
   "source": [
    "df['post'] = df['post'].apply(clean_text)"
   ]
  },
  {
   "cell_type": "code",
   "execution_count": 18,
   "metadata": {},
   "outputs": [
    {
     "name": "stdout",
     "output_type": "stream",
     "text": [
      "java hackerrankcom 30 days code day 6 hello stackoverflow peeps working learn improve coding skills hackerrankcom 30 days code day 6 issues figuring getting error message response stdout done searching google within stackoverflow found others error using standard feel like missing code import javaio import javautil import javatext import javamath import javautilregex public class solution public static void main string args enter code read input stdin print output stdout class named solution scanner sc new scanner systemin int cases scnextint cases 0 getword cases public static void getword save input string scanner sc new scanner systemin string userinput scnextline convert string character array char inputchararray userinputtochararray setup output strings string evenoutputstring string oddoutputstring iterate array int 0 userinputlength i++ check index even 2 0 add even output string evenoutputstring evenoutputstring + inputchararray else add odd output string oddoutputstring oddoutputstring + inputchararray output final output one line seperated single space systemoutprintln evenoutputstring + + oddoutputstring challenge found https wwwhackerrankcom challenges 30reviewloop problem first input number determines many test cases occur following inputs single words supposed put array sort even odd index slots print one line separated space example input 2 hacker rank example output hce akr rn ak tried moving cases 0 code block method case args main method part problem got results also tried tostring inputchararray output string concatenation also trying stay away stringbuilder stay within intended scope challenge\n",
      "Tag: java\n",
      "None\n"
     ]
    }
   ],
   "source": [
    "#Now, lets try printing the above tags if it is cleaned\n",
    "\n",
    "print(print_example(20))"
   ]
  },
  {
   "cell_type": "code",
   "execution_count": 19,
   "metadata": {},
   "outputs": [
    {
     "name": "stdout",
     "output_type": "stream",
     "text": [
      "custom ios ui control sendactions data trying build custom control initialize array strings creates labels one click got visually working part sending actions confused internal func sharedinit translatesautoresizingmaskintoconstraints false var labels uilabel var tagindex 0 name menunames let label uilabel labeltranslatesautoresizingmaskintoconstraints false labeltext name labeltextcolor tintcolor labelisuserinteractionenabled true labeltag tagindex addtapgesturerecognizer label label labelsappend label addsubview label tagindex + 1 menulabels labels internal func addtapgesturerecognizer label uilabel let tapgesturerecognizer uitapgesturerecognizer target self action #selector submenuviewhandletap _ labeladdgesturerecognizer tapgesturerecognizer func handletap _ sender uitapgesturerecognizer print senderview tag sendactions touchupinside want control able different action different labels pass touched sure targetaction add action actual control idea label selected right think would work print tag broadcast notification view controller figure label pressed action sure better way targetaction since see tutorials using custom controls thanks advance\n",
      "Tag: ios\n",
      "None\n"
     ]
    }
   ],
   "source": [
    "print(print_example(40))"
   ]
  },
  {
   "attachments": {},
   "cell_type": "markdown",
   "metadata": {},
   "source": [
    "On comparison for the same tags printed earlier (ios and java), now text is cleaned up and much better. Also, it looks like only 3 million rows are there after cleanup"
   ]
  },
  {
   "cell_type": "code",
   "execution_count": 20,
   "metadata": {},
   "outputs": [
    {
     "data": {
      "text/plain": [
       "3424153"
      ]
     },
     "execution_count": 20,
     "metadata": {},
     "output_type": "execute_result"
    }
   ],
   "source": [
    "df['post'].apply(lambda x: len(x.split(' '))).sum()"
   ]
  },
  {
   "cell_type": "code",
   "execution_count": 21,
   "metadata": {},
   "outputs": [],
   "source": [
    "#splitting up train and test data\n",
    "X=df.post\n",
    "y= df.tags\n",
    "\n",
    "X_train, X_test, y_train, y_test = train_test_split(X, y, test_size=0.2, random_state = 3)"
   ]
  },
  {
   "attachments": {},
   "cell_type": "markdown",
   "metadata": {},
   "source": [
    "Feature engineering is included for next few steps. To train the classifier, we need the raw text to convert into normalised tf-idf representation (tf-idf transformer). Then we run on several classifiers and compare"
   ]
  },
  {
   "attachments": {},
   "cell_type": "markdown",
   "metadata": {},
   "source": [
    "**II. Models:**\n",
    "\n",
    "**1. Linear support vector machine using SGD**"
   ]
  },
  {
   "cell_type": "code",
   "execution_count": 23,
   "metadata": {},
   "outputs": [
    {
     "data": {
      "text/plain": [
       "Pipeline(steps=[('cntvect', CountVectorizer()), ('tfidf', TfidfTransformer()),\n",
       "                ('clf',\n",
       "                 SGDClassifier(alpha=0.001, max_iter=6, random_state=3,\n",
       "                               tol=None))])"
      ]
     },
     "execution_count": 23,
     "metadata": {},
     "output_type": "execute_result"
    }
   ],
   "source": [
    "from sklearn.linear_model import SGDClassifier\n",
    "\n",
    "sgd = Pipeline([('cntvect', CountVectorizer()),\n",
    "                ('tfidf', TfidfTransformer()),\n",
    "                ('clf', SGDClassifier(alpha=1e-3, random_state=3, loss='hinge', penalty='l2', max_iter=6, tol=None)),\n",
    "               ])\n",
    "sgd.fit(X_train, y_train)"
   ]
  },
  {
   "cell_type": "code",
   "execution_count": 38,
   "metadata": {},
   "outputs": [
    {
     "name": "stdout",
     "output_type": "stream",
     "text": [
      "accuracy 0.78675\n",
      "               precision    recall  f1-score   support\n",
      "\n",
      "         .net       0.72      0.67      0.70       387\n",
      "      android       0.85      0.92      0.88       416\n",
      "    angularjs       0.90      0.95      0.93       412\n",
      "      asp.net       0.77      0.79      0.78       397\n",
      "            c       0.73      0.87      0.79       424\n",
      "           c#       0.80      0.42      0.55       391\n",
      "          c++       0.86      0.64      0.73       426\n",
      "          css       0.70      0.93      0.80       384\n",
      "         html       0.80      0.59      0.68       401\n",
      "          ios       0.70      0.55      0.62       382\n",
      "       iphone       0.71      0.64      0.67       415\n",
      "         java       0.81      0.88      0.84       415\n",
      "   javascript       0.78      0.78      0.78       393\n",
      "       jquery       0.80      0.86      0.83       387\n",
      "        mysql       0.84      0.82      0.83       403\n",
      "  objective-c       0.67      0.73      0.70       401\n",
      "          php       0.81      0.90      0.85       395\n",
      "       python       0.81      0.95      0.88       375\n",
      "ruby-on-rails       0.88      0.95      0.92       412\n",
      "          sql       0.79      0.90      0.84       384\n",
      "\n",
      "     accuracy                           0.79      8000\n",
      "    macro avg       0.79      0.79      0.78      8000\n",
      " weighted avg       0.79      0.79      0.78      8000\n",
      "\n",
      "CPU times: total: 453 ms\n",
      "Wall time: 1.08 s\n"
     ]
    }
   ],
   "source": [
    "%%time\n",
    "from sklearn.metrics import classification_report\n",
    "\n",
    "y_pred = sgd.predict(X_test)\n",
    "\n",
    "def accuracy_classificationreport(y_pred,y_test):\n",
    "    print('accuracy %s' % accuracy_score(y_pred, y_test))\n",
    "    print(classification_report(y_test, y_pred,target_names=np.unique(df.tags)))\n",
    "\n",
    "accuracy_classificationreport(y_pred,y_test)"
   ]
  },
  {
   "cell_type": "code",
   "execution_count": 28,
   "metadata": {},
   "outputs": [
    {
     "data": {
      "text/plain": [
       "array(['.net', 'android', 'angularjs', 'asp.net', 'c', 'c#', 'c++', 'css',\n",
       "       'html', 'ios', 'iphone', 'java', 'javascript', 'jquery', 'mysql',\n",
       "       'objective-c', 'php', 'python', 'ruby-on-rails', 'sql'],\n",
       "      dtype=object)"
      ]
     },
     "execution_count": 28,
     "metadata": {},
     "output_type": "execute_result"
    }
   ],
   "source": [
    "np.unique(df.tags)"
   ]
  },
  {
   "attachments": {},
   "cell_type": "markdown",
   "metadata": {},
   "source": [
    "**2. Naive Bayes Classifier**\n"
   ]
  },
  {
   "cell_type": "code",
   "execution_count": 33,
   "metadata": {},
   "outputs": [
    {
     "data": {
      "text/plain": [
       "Pipeline(steps=[('cntvect', CountVectorizer()), ('tfidf', TfidfTransformer()),\n",
       "                ('clf', MultinomialNB())])"
      ]
     },
     "execution_count": 33,
     "metadata": {},
     "output_type": "execute_result"
    }
   ],
   "source": [
    "nb = Pipeline([('cntvect', CountVectorizer()),\n",
    "               ('tfidf', TfidfTransformer()),\n",
    "               ('clf', MultinomialNB()),\n",
    "              ])\n",
    "nb.fit(X_train, y_train)"
   ]
  },
  {
   "cell_type": "code",
   "execution_count": 35,
   "metadata": {},
   "outputs": [
    {
     "name": "stdout",
     "output_type": "stream",
     "text": [
      "accuracy 0.7545\n",
      "               precision    recall  f1-score   support\n",
      "\n",
      "         .net       0.56      0.66      0.61       387\n",
      "      android       0.93      0.82      0.87       416\n",
      "    angularjs       0.91      0.94      0.93       412\n",
      "      asp.net       0.71      0.75      0.73       397\n",
      "            c       0.75      0.87      0.80       424\n",
      "           c#       0.70      0.53      0.60       391\n",
      "          c++       0.83      0.72      0.77       426\n",
      "          css       0.68      0.88      0.77       384\n",
      "         html       0.64      0.65      0.65       401\n",
      "          ios       0.59      0.68      0.63       382\n",
      "       iphone       0.74      0.56      0.64       415\n",
      "         java       0.83      0.76      0.79       415\n",
      "   javascript       0.82      0.63      0.71       393\n",
      "       jquery       0.72      0.79      0.75       387\n",
      "        mysql       0.71      0.83      0.76       403\n",
      "  objective-c       0.70      0.71      0.71       401\n",
      "          php       0.81      0.82      0.81       395\n",
      "       python       0.84      0.88      0.86       375\n",
      "ruby-on-rails       0.94      0.90      0.92       412\n",
      "          sql       0.76      0.72      0.74       384\n",
      "\n",
      "     accuracy                           0.75      8000\n",
      "    macro avg       0.76      0.75      0.75      8000\n",
      " weighted avg       0.76      0.75      0.75      8000\n",
      "\n",
      "CPU times: total: 625 ms\n",
      "Wall time: 1.02 s\n"
     ]
    }
   ],
   "source": [
    "%%time\n",
    "\n",
    "y_pred = nb.predict(X_test)\n",
    "accuracy_classificationreport(y_pred,y_test)"
   ]
  },
  {
   "attachments": {},
   "cell_type": "markdown",
   "metadata": {},
   "source": [
    "**3. Logistic Regression**"
   ]
  },
  {
   "cell_type": "code",
   "execution_count": 37,
   "metadata": {},
   "outputs": [
    {
     "data": {
      "text/plain": [
       "Pipeline(steps=[('cntvect', CountVectorizer()), ('tfidf', TfidfTransformer()),\n",
       "                ('clf', LogisticRegression(C=100000.0, n_jobs=2))])"
      ]
     },
     "execution_count": 37,
     "metadata": {},
     "output_type": "execute_result"
    }
   ],
   "source": [
    "from sklearn.linear_model import LogisticRegression\n",
    "\n",
    "logreg = Pipeline([('cntvect', CountVectorizer()),\n",
    "                ('tfidf', TfidfTransformer()),\n",
    "                ('clf', LogisticRegression(n_jobs=2, C=1e5)),\n",
    "               ])\n",
    "logreg.fit(X_train, y_train)"
   ]
  },
  {
   "cell_type": "code",
   "execution_count": 39,
   "metadata": {},
   "outputs": [
    {
     "name": "stdout",
     "output_type": "stream",
     "text": [
      "accuracy 0.7825\n",
      "               precision    recall  f1-score   support\n",
      "\n",
      "         .net       0.62      0.63      0.62       387\n",
      "      android       0.92      0.86      0.88       416\n",
      "    angularjs       0.98      0.93      0.96       412\n",
      "      asp.net       0.78      0.73      0.75       397\n",
      "            c       0.81      0.84      0.82       424\n",
      "           c#       0.58      0.62      0.60       391\n",
      "          c++       0.81      0.75      0.78       426\n",
      "          css       0.80      0.83      0.81       384\n",
      "         html       0.62      0.75      0.68       401\n",
      "          ios       0.66      0.59      0.63       382\n",
      "       iphone       0.66      0.66      0.66       415\n",
      "         java       0.83      0.80      0.81       415\n",
      "   javascript       0.79      0.76      0.78       393\n",
      "       jquery       0.80      0.86      0.83       387\n",
      "        mysql       0.82      0.83      0.83       403\n",
      "  objective-c       0.67      0.71      0.69       401\n",
      "          php       0.84      0.83      0.84       395\n",
      "       python       0.93      0.93      0.93       375\n",
      "ruby-on-rails       0.97      0.93      0.95       412\n",
      "          sql       0.81      0.83      0.82       384\n",
      "\n",
      "     accuracy                           0.78      8000\n",
      "    macro avg       0.78      0.78      0.78      8000\n",
      " weighted avg       0.79      0.78      0.78      8000\n",
      "\n"
     ]
    }
   ],
   "source": [
    "y_pred = logreg.predict(X_test)\n",
    "accuracy_classificationreport(y_pred,y_test)"
   ]
  },
  {
   "cell_type": "code",
   "execution_count": 44,
   "metadata": {},
   "outputs": [
    {
     "data": {
      "text/plain": [
       "Pipeline(steps=[('cntvect', CountVectorizer()), ('tfidf', TfidfTransformer()),\n",
       "                ('clf', KNeighborsClassifier(n_neighbors=10))])"
      ]
     },
     "execution_count": 44,
     "metadata": {},
     "output_type": "execute_result"
    }
   ],
   "source": [
    "from sklearn.neighbors import KNeighborsClassifier\n",
    "knn_model = Pipeline([('cntvect', CountVectorizer()),\n",
    "                ('tfidf', TfidfTransformer()),\n",
    "                ('clf', KNeighborsClassifier(n_neighbors=10, metric='minkowski',p=2)),\n",
    "                               ])\n",
    "knn_model.fit(X_train, y_train)"
   ]
  },
  {
   "cell_type": "code",
   "execution_count": 45,
   "metadata": {},
   "outputs": [
    {
     "name": "stdout",
     "output_type": "stream",
     "text": [
      "accuracy 0.514375\n",
      "               precision    recall  f1-score   support\n",
      "\n",
      "         .net       0.44      0.55      0.49       387\n",
      "      android       0.63      0.69      0.66       416\n",
      "    angularjs       0.77      0.58      0.66       412\n",
      "      asp.net       0.54      0.58      0.56       397\n",
      "            c       0.47      0.72      0.57       424\n",
      "           c#       0.40      0.30      0.34       391\n",
      "          c++       0.54      0.48      0.51       426\n",
      "          css       0.43      0.72      0.54       384\n",
      "         html       0.29      0.58      0.39       401\n",
      "          ios       0.43      0.38      0.40       382\n",
      "       iphone       0.48      0.47      0.47       415\n",
      "         java       0.57      0.47      0.52       415\n",
      "   javascript       0.51      0.31      0.38       393\n",
      "       jquery       0.47      0.49      0.48       387\n",
      "        mysql       0.57      0.54      0.55       403\n",
      "  objective-c       0.55      0.40      0.46       401\n",
      "          php       0.70      0.46      0.55       395\n",
      "       python       0.63      0.44      0.52       375\n",
      "ruby-on-rails       0.83      0.58      0.68       412\n",
      "          sql       0.55      0.51      0.53       384\n",
      "\n",
      "     accuracy                           0.51      8000\n",
      "    macro avg       0.54      0.51      0.51      8000\n",
      " weighted avg       0.54      0.51      0.52      8000\n",
      "\n"
     ]
    }
   ],
   "source": [
    "y_pred = knn_model.predict(X_test)\n",
    "accuracy_classificationreport(y_pred,y_test)"
   ]
  },
  {
   "cell_type": "code",
   "execution_count": null,
   "metadata": {},
   "outputs": [],
   "source": []
  }
 ],
 "metadata": {
  "kernelspec": {
   "display_name": "base",
   "language": "python",
   "name": "python3"
  },
  "language_info": {
   "codemirror_mode": {
    "name": "ipython",
    "version": 3
   },
   "file_extension": ".py",
   "mimetype": "text/x-python",
   "name": "python",
   "nbconvert_exporter": "python",
   "pygments_lexer": "ipython3",
   "version": "3.9.12"
  },
  "orig_nbformat": 4
 },
 "nbformat": 4,
 "nbformat_minor": 2
}
